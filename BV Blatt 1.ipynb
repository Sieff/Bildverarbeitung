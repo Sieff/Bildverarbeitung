{
 "cells": [
  {
   "cell_type": "code",
   "execution_count": 1,
   "metadata": {},
   "outputs": [],
   "source": [
    "#General Imports\n",
    "import numpy as np"
   ]
  },
  {
   "cell_type": "markdown",
   "metadata": {},
   "source": [
    "# Task 1\n",
    "siehe PDF Dokument"
   ]
  },
  {
   "cell_type": "code",
   "execution_count": 11,
   "metadata": {},
   "outputs": [
    {
     "name": "stdout",
     "output_type": "stream",
     "text": [
      "[1, 'y', 'x', 4, 5]\n"
     ]
    }
   ],
   "source": [
    "l = [1,2,3,4,5]\n",
    "l[1:3] = ['y','x']\n",
    "print(l)"
   ]
  },
  {
   "cell_type": "code",
   "execution_count": 14,
   "metadata": {},
   "outputs": [
    {
     "name": "stdout",
     "output_type": "stream",
     "text": [
      "0 1\n",
      "1 2\n",
      "2 3\n",
      "3 4\n",
      "4 5\n"
     ]
    }
   ],
   "source": [
    "l = [1,2,3,4,5]\n",
    "for i in range(len(l)):\n",
    "    print (i, l[i])\n",
    "    \n",
    "    "
   ]
  },
  {
   "cell_type": "code",
   "execution_count": 18,
   "metadata": {},
   "outputs": [
    {
     "name": "stdout",
     "output_type": "stream",
     "text": [
      "0 1\n",
      "1 2\n",
      "2 3\n",
      "3 4\n",
      "4 5\n"
     ]
    }
   ],
   "source": [
    "l = [1,2,3,4,5]\n",
    "i = 0\n",
    "for x in l:\n",
    "    print(i, x)\n",
    "    i = i+1"
   ]
  },
  {
   "cell_type": "code",
   "execution_count": 23,
   "metadata": {},
   "outputs": [
    {
     "name": "stdout",
     "output_type": "stream",
     "text": [
      "(2, 4)\n"
     ]
    }
   ],
   "source": [
    "a = np.array([[1,2,3,4],[1,2,3,4]])\n",
    "print(a.shape)"
   ]
  },
  {
   "cell_type": "code",
   "execution_count": 29,
   "metadata": {},
   "outputs": [
    {
     "name": "stdout",
     "output_type": "stream",
     "text": [
      "[[0. 0. 0.]\n",
      " [0. 0. 0.]]\n",
      "[2 3]\n"
     ]
    }
   ],
   "source": [
    "b = np.zeros((2,3))\n",
    "print(b)\n",
    "c= np.array((2,3))\n",
    "print(c)"
   ]
  },
  {
   "cell_type": "markdown",
   "metadata": {},
   "source": [
    "# Task 2"
   ]
  },
  {
   "cell_type": "code",
   "execution_count": 32,
   "metadata": {},
   "outputs": [
    {
     "name": "stdout",
     "output_type": "stream",
     "text": [
      "['a', 'r'] ['b', 'r', 'e', 'e', 'i', 'v', 't', 'd', 'u', 'l', 'n', 'i', 'g', 'b']\n"
     ]
    }
   ],
   "source": [
    "# Zunächst wird das Codewort als Liste l definiert und dann entsprechend der Aufgabenstellung gespalten\n",
    "l = ['a', 'r', 'b', 'r', 'e', 'e', 'i', 'v', 't', 'd','u','l', 'n', 'i', 'g','b']\n",
    "a = l[0:2]\n",
    "b = l[2:]\n",
    "print(a,b)"
   ]
  },
  {
   "cell_type": "code",
   "execution_count": 39,
   "metadata": {},
   "outputs": [
    {
     "name": "stdout",
     "output_type": "stream",
     "text": [
      "['b', 'e', 'i', 't', 'u', 'n', 'g']\n",
      "['r', 'e', 'v', 'd', 'l', 'i', 'b']\n"
     ]
    }
   ],
   "source": [
    "# b wird in b_0 und b_1 aufgeteilt\n",
    "b_0 = b[::2]\n",
    "print(b_0)\n",
    "b_1 = b[1::2]\n",
    "print(b_1)"
   ]
  },
  {
   "cell_type": "code",
   "execution_count": 40,
   "metadata": {},
   "outputs": [
    {
     "name": "stdout",
     "output_type": "stream",
     "text": [
      "['b', 'i', 'l', 'd', 'v', 'e', 'r']\n"
     ]
    }
   ],
   "source": [
    "# Die Liste b_1 wird umgedreht\n",
    "b_1 =b_1[::-1]\n",
    "print(b_1)"
   ]
  },
  {
   "cell_type": "code",
   "execution_count": 41,
   "metadata": {},
   "outputs": [
    {
     "name": "stdout",
     "output_type": "stream",
     "text": [
      "['b', 'i', 'l', 'd', 'v', 'e', 'r', 'a', 'r', 'b', 'e', 'i', 't', 'u', 'n', 'g']\n"
     ]
    }
   ],
   "source": [
    "# Zusammensetzen der Lösung\n",
    "d= b_1 + a + b_0\n",
    "print(d)"
   ]
  },
  {
   "cell_type": "markdown",
   "metadata": {},
   "source": [
    "# Task 3"
   ]
  },
  {
   "cell_type": "code",
   "execution_count": 44,
   "metadata": {},
   "outputs": [
    {
     "name": "stdout",
     "output_type": "stream",
     "text": [
      "range(100, 201)\n"
     ]
    }
   ],
   "source": [
    "#Teilaufgabe 1\n",
    "l= range(100,201)\n",
    "print(l)\n",
    "\n"
   ]
  },
  {
   "cell_type": "code",
   "execution_count": 46,
   "metadata": {},
   "outputs": [
    {
     "name": "stdout",
     "output_type": "stream",
     "text": [
      "15150\n"
     ]
    }
   ],
   "source": [
    "#Teilaufgabe 2\n",
    "def Sum(x):\n",
    "    y = 0\n",
    "    for i in x:\n",
    "        y+=i\n",
    "    return y\n",
    "print(Sum(l))\n"
   ]
  },
  {
   "cell_type": "code",
   "execution_count": 47,
   "metadata": {},
   "outputs": [
    {
     "name": "stdout",
     "output_type": "stream",
     "text": [
      "150.0\n"
     ]
    }
   ],
   "source": [
    "#Teilaufgabe 3\n",
    "def Mean(x):\n",
    "    return Sum(x)/len(x)\n",
    "print(Mean(l))"
   ]
  },
  {
   "cell_type": "code",
   "execution_count": 48,
   "metadata": {},
   "outputs": [
    {
     "data": {
      "text/plain": [
       "(51, 50)"
      ]
     },
     "execution_count": 48,
     "metadata": {},
     "output_type": "execute_result"
    }
   ],
   "source": [
    "# Teilaufgabe 4\n",
    "def Elements(x):\n",
    "    ungerade = 0\n",
    "    gerade = 0\n",
    "    for i in x:\n",
    "        if i % 2 == 0:\n",
    "            gerade +=1\n",
    "        else:\n",
    "            ungerade +=1\n",
    "    return gerade, ungerade\n",
    "Elements(l)\n",
    "    "
   ]
  },
  {
   "cell_type": "code",
   "execution_count": 50,
   "metadata": {},
   "outputs": [
    {
     "data": {
      "text/plain": [
       "21"
      ]
     },
     "execution_count": 50,
     "metadata": {},
     "output_type": "execute_result"
    }
   ],
   "source": [
    "#Teilaufgabe 5\n",
    "def isPrime(x):\n",
    "    for i in range(2,x):\n",
    "        if x % i == 0:\n",
    "            return False\n",
    "    return True\n",
    "\n",
    "def Prime(x):    \n",
    "    prims = 0\n",
    "    for i in l:\n",
    "        if isPrime(i):\n",
    "            prims +=1\n",
    "    return prims\n",
    "Prime(l)\n",
    "        "
   ]
  },
  {
   "cell_type": "markdown",
   "metadata": {},
   "source": [
    "# Task 4"
   ]
  },
  {
   "cell_type": "code",
   "execution_count": 74,
   "metadata": {},
   "outputs": [
    {
     "name": "stdout",
     "output_type": "stream",
     "text": [
      "[0. 0. 0. 0. 0. 0. 0. 0. 0. 0. 0. 0. 0. 0. 0. 0. 0. 0. 0. 0. 0. 0. 0. 0.\n",
      " 0. 0. 0. 0. 0. 0. 0. 0. 0. 0. 0. 0. 0. 0. 0. 0. 0. 0. 0. 0. 0. 0. 0. 0.\n",
      " 0. 0. 0. 0. 0. 0. 0. 0. 0. 0. 0. 0. 0. 0. 0. 0. 0. 0. 0. 0. 0. 0. 0. 0.\n",
      " 0. 0. 0. 0. 0. 0. 0. 0. 0. 0. 0. 0. 0. 0. 0. 0. 0. 0. 0. 0. 0. 0. 0. 0.\n",
      " 0. 0. 0. 0.]\n",
      "[ 0  1  2  3  4  5  6  7  8  9 10 11]\n",
      "[[ 0  1  2  3]\n",
      " [ 4  5  6  7]\n",
      " [ 8  9 10 11]]\n"
     ]
    }
   ],
   "source": [
    "# Teilaufgaben 1 bis 3\n",
    "u = np.zeros(100)\n",
    "print(u)\n",
    "v = np.array(range(12))\n",
    "print(v)\n",
    "m = v.reshape(3,4)\n",
    "print(m)"
   ]
  },
  {
   "cell_type": "code",
   "execution_count": 75,
   "metadata": {},
   "outputs": [
    {
     "name": "stdout",
     "output_type": "stream",
     "text": [
      "[[ 0.   1.2  2.4  3.6]\n",
      " [ 4.8  6.   7.2  8.4]\n",
      " [ 9.6 10.8 12.  13.2]]\n"
     ]
    }
   ],
   "source": [
    "# Teilaufgabe 4\n",
    "m = m*1.2\n",
    "print(m)"
   ]
  },
  {
   "cell_type": "code",
   "execution_count": 76,
   "metadata": {},
   "outputs": [
    {
     "name": "stdout",
     "output_type": "stream",
     "text": [
      "[[ 0  1  2  3]\n",
      " [ 4  6  7  8]\n",
      " [ 9 10 12 13]]\n"
     ]
    }
   ],
   "source": [
    "# Teilaufgabe 5\n",
    "m = m.astype(int)\n",
    "print(m)"
   ]
  },
  {
   "cell_type": "code",
   "execution_count": null,
   "metadata": {},
   "outputs": [],
   "source": [
    "# Teilaufgabe 6 \n",
    "m = m*1.2\n",
    "print(m.dtype)"
   ]
  },
  {
   "cell_type": "code",
   "execution_count": 80,
   "metadata": {},
   "outputs": [
    {
     "name": "stdout",
     "output_type": "stream",
     "text": [
      "[[  0.     1.44   5.76  12.96]\n",
      " [ 23.04  51.84  70.56  92.16]\n",
      " [116.64 144.   207.36 243.36]]\n"
     ]
    }
   ],
   "source": [
    "# Teilaufgabe 7\n",
    "m2 = np.multiply(m,m)\n",
    "print(m2)"
   ]
  },
  {
   "cell_type": "code",
   "execution_count": null,
   "metadata": {},
   "outputs": [],
   "source": []
  }
 ],
 "metadata": {
  "kernelspec": {
   "display_name": "Python 3",
   "language": "python",
   "name": "python3"
  },
  "language_info": {
   "codemirror_mode": {
    "name": "ipython",
    "version": 3
   },
   "file_extension": ".py",
   "mimetype": "text/x-python",
   "name": "python",
   "nbconvert_exporter": "python",
   "pygments_lexer": "ipython3",
   "version": "3.7.6"
  }
 },
 "nbformat": 4,
 "nbformat_minor": 4
}
